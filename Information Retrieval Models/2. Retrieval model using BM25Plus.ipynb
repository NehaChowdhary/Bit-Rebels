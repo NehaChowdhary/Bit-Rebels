{
  "nbformat": 4,
  "nbformat_minor": 0,
  "metadata": {
    "colab": {
      "provenance": [],
      "authorship_tag": "ABX9TyNSW6vOEy8IxCkY2tQioJwl",
      "include_colab_link": true
    },
    "kernelspec": {
      "name": "python3",
      "display_name": "Python 3"
    },
    "language_info": {
      "name": "python"
    }
  },
  "cells": [
    {
      "cell_type": "markdown",
      "metadata": {
        "id": "view-in-github",
        "colab_type": "text"
      },
      "source": [
        "<a href=\"https://colab.research.google.com/github/NehaChowdhary/Bit-Rebels/blob/main/Information%20Retrieval%20Models/BM25Plus.ipynb\" target=\"_parent\"><img src=\"https://colab.research.google.com/assets/colab-badge.svg\" alt=\"Open In Colab\"/></a>"
      ]
    },
    {
      "cell_type": "code",
      "execution_count": null,
      "metadata": {
        "colab": {
          "base_uri": "https://localhost:8080/"
        },
        "id": "0oafsrfYo9wR",
        "outputId": "99572dd7-461a-44ef-c25a-42e7e4184e14"
      },
      "outputs": [
        {
          "output_type": "stream",
          "name": "stdout",
          "text": [
            "Cloning into 'ClariQ'...\n",
            "remote: Enumerating objects: 220, done.\u001b[K\n",
            "remote: Counting objects: 100% (44/44), done.\u001b[K\n",
            "remote: Compressing objects: 100% (30/30), done.\u001b[K\n",
            "remote: Total 220 (delta 19), reused 32 (delta 14), pack-reused 176\u001b[K\n",
            "Receiving objects: 100% (220/220), 253.36 MiB | 33.61 MiB/s, done.\n",
            "Resolving deltas: 100% (110/110), done.\n",
            "Updating files: 100% (41/41), done.\n"
          ]
        }
      ],
      "source": [
        "!git clone https://github.com/aliannejadi/ClariQ.git"
      ]
    },
    {
      "cell_type": "code",
      "source": [
        "ls"
      ],
      "metadata": {
        "colab": {
          "base_uri": "https://localhost:8080/"
        },
        "id": "_F6ptcWBgZZH",
        "outputId": "7d653387-92b3-4733-ed2f-52f82fb92ed2"
      },
      "execution_count": null,
      "outputs": [
        {
          "output_type": "stream",
          "name": "stdout",
          "text": [
            "\u001b[0m\u001b[01;34mClariQ\u001b[0m/  \u001b[01;34mdata\u001b[0m/  README.md  \u001b[01;34msample_runs\u001b[0m/  \u001b[01;34msrc\u001b[0m/\n"
          ]
        }
      ]
    },
    {
      "cell_type": "code",
      "source": [
        "!pip install rank_bm25"
      ],
      "metadata": {
        "colab": {
          "base_uri": "https://localhost:8080/"
        },
        "id": "_UI1iKgUR92s",
        "outputId": "ba65e8c6-6d7a-437c-eeee-4dcbf7bd6ee9"
      },
      "execution_count": null,
      "outputs": [
        {
          "output_type": "stream",
          "name": "stdout",
          "text": [
            "Looking in indexes: https://pypi.org/simple, https://us-python.pkg.dev/colab-wheels/public/simple/\n",
            "Requirement already satisfied: rank_bm25 in /usr/local/lib/python3.9/dist-packages (0.2.2)\n",
            "Requirement already satisfied: numpy in /usr/local/lib/python3.9/dist-packages (from rank_bm25) (1.22.4)\n"
          ]
        }
      ]
    },
    {
      "cell_type": "code",
      "source": [
        "import pandas as pd\n",
        "from rank_bm25 import *\n",
        "import nltk\n",
        "from nltk.stem.porter import PorterStemmer\n",
        "\n",
        "nltk.download('punkt')\n",
        "nltk.download('stopwords')\n",
        "\n",
        "def stem_tokenize(text, remove_stopwords=True):\n",
        "  stemmer = PorterStemmer()\n",
        "  tokens = [word for sent in nltk.sent_tokenize(text) \\\n",
        "                                      for word in nltk.word_tokenize(sent)]\n",
        "  tokens = [word for word in tokens if word not in \\\n",
        "          nltk.corpus.stopwords.words('english')]\n",
        "  return [stemmer.stem(word) for word in tokens]"
      ],
      "metadata": {
        "colab": {
          "base_uri": "https://localhost:8080/"
        },
        "id": "YCQPnIqTQu7b",
        "outputId": "5436926d-3f5b-4502-bf70-3a0b599397f7"
      },
      "execution_count": null,
      "outputs": [
        {
          "output_type": "stream",
          "name": "stderr",
          "text": [
            "[nltk_data] Downloading package punkt to /root/nltk_data...\n",
            "[nltk_data]   Package punkt is already up-to-date!\n",
            "[nltk_data] Downloading package stopwords to /root/nltk_data...\n",
            "[nltk_data]   Package stopwords is already up-to-date!\n"
          ]
        }
      ]
    },
    {
      "cell_type": "code",
      "source": [
        "cd ClariQ/"
      ],
      "metadata": {
        "colab": {
          "base_uri": "https://localhost:8080/"
        },
        "id": "hZvkJMsyIxVH",
        "outputId": "3046cb24-fce7-449d-9543-b8b9361c6c0f"
      },
      "execution_count": null,
      "outputs": [
        {
          "output_type": "stream",
          "name": "stdout",
          "text": [
            "/content/ClariQ/sample_runs/ClariQ/ClariQ\n"
          ]
        }
      ]
    },
    {
      "cell_type": "code",
      "source": [
        "ls"
      ],
      "metadata": {
        "colab": {
          "base_uri": "https://localhost:8080/"
        },
        "id": "qx9WIvz1JN1w",
        "outputId": "753a3de9-27c0-4bbd-b07b-8f52728bdc17"
      },
      "execution_count": null,
      "outputs": [
        {
          "output_type": "stream",
          "name": "stdout",
          "text": [
            "\u001b[0m\u001b[01;34mdata\u001b[0m/  README.md  \u001b[01;34msample_runs\u001b[0m/  \u001b[01;34msrc\u001b[0m/\n"
          ]
        }
      ]
    },
    {
      "cell_type": "code",
      "source": [
        "# Files paths\n",
        "request_file_path = 'data/dev.tsv'\n",
        "question_bank_path = 'data/question_bank.tsv'\n",
        "run_file_path = 'sample_runs/dev_bm25'"
      ],
      "metadata": {
        "id": "kpWmo7zbSt2r"
      },
      "execution_count": null,
      "outputs": []
    },
    {
      "cell_type": "code",
      "source": [
        "# Reads files and build bm25 corpus (index)\n",
        "\n",
        "dev = pd.read_csv(request_file_path, sep='\\t')\n",
        "question_bank = pd.read_csv(question_bank_path, sep='\\t').fillna('')\n",
        "\n",
        "question_bank['tokenized_question_list'] = question_bank['question'].map(stem_tokenize)\n",
        "question_bank['tokenized_question_str'] = question_bank['tokenized_question_list'].map(lambda x: ' '.join(x))\n",
        "\n",
        "bm25_corpus = question_bank['tokenized_question_list'].tolist()\n",
        "bm25 = BM25Plus(bm25_corpus)\n",
        "\n",
        "# Runs bm25 for every query and stores output in file.\n",
        "\n",
        "with open(run_file_path, 'w') as fo:\n",
        "  for tid in dev['topic_id'].unique():\n",
        "    query = dev.loc[dev['topic_id']==tid, 'initial_request'].tolist()[0]\n",
        "    bm25_ranked_list = bm25.get_top_n(stem_tokenize(query, True), \n",
        "                                    bm25_corpus, \n",
        "                                    n=30)\n",
        "    bm25_q_list = [' '.join(sent) for sent in bm25_ranked_list]\n",
        "    preds = question_bank.set_index('tokenized_question_str').loc[bm25_q_list, 'question_id'].tolist()\n",
        "    for i, qid in enumerate(preds):    \n",
        "      fo.write('{} 0 {} {} {} bm25\\n'.format(tid, qid, i, len(preds)-i))"
      ],
      "metadata": {
        "id": "jNoXSt0ASt5c"
      },
      "execution_count": null,
      "outputs": []
    },
    {
      "cell_type": "code",
      "source": [
        "cd src"
      ],
      "metadata": {
        "colab": {
          "base_uri": "https://localhost:8080/"
        },
        "id": "h2FXnrrIJolK",
        "outputId": "ee1819d6-6d70-420b-edcc-001a960a59c6"
      },
      "execution_count": null,
      "outputs": [
        {
          "output_type": "stream",
          "name": "stdout",
          "text": [
            "/content/ClariQ/sample_runs/ClariQ/ClariQ/src\n"
          ]
        }
      ]
    },
    {
      "cell_type": "code",
      "source": [
        "run_file_path = \"../sample_runs/dev_bm25\""
      ],
      "metadata": {
        "id": "uP4xRnDhtPqB"
      },
      "execution_count": null,
      "outputs": []
    },
    {
      "cell_type": "code",
      "source": [
        "# Report question relevance performance\n",
        "! python clariq_eval_tool.py    --eval_task question_relevance\\\n",
        "                                --data_dir ../data/ \\\n",
        "                                --experiment_type dev \\\n",
        "                                --run_file {run_file_path} \\\n",
        "                                --out_file {run_file_path}_question_relevance.eval"
      ],
      "metadata": {
        "colab": {
          "base_uri": "https://localhost:8080/"
        },
        "id": "rsnBbedbKMpQ",
        "outputId": "a6621bc8-0e9f-494b-c629-920c18501e1e"
      },
      "execution_count": null,
      "outputs": [
        {
          "output_type": "stream",
          "name": "stdout",
          "text": [
            "Recall5: 0.3245570421150917\n",
            "Recall10: 0.5626277940325928\n",
            "Recall20: 0.6674997108155003\n",
            "Recall30: 0.6912818698329535\n"
          ]
        }
      ]
    },
    {
      "cell_type": "code",
      "source": [
        "! python clariq_eval_tool.py    --eval_task document_relevance\\\n",
        "                                --data_dir ../data/ \\\n",
        "                                --experiment_type dev \\\n",
        "                                --run_file {run_file_path} \\\n",
        "                                --out_file {run_file_path}.eval"
      ],
      "metadata": {
        "id": "z92ExIi7S-8B",
        "colab": {
          "base_uri": "https://localhost:8080/"
        },
        "outputId": "83af6d89-8952-47e2-e61e-fc7bfc5c44d0"
      },
      "execution_count": null,
      "outputs": [
        {
          "output_type": "stream",
          "name": "stdout",
          "text": [
            "NDCG1: 0.1859375\n",
            "NDCG3: 0.1565278915736497\n",
            "NDCG5: 0.15213811412234102\n",
            "NDCG10: 0.1330149674169258\n",
            "NDCG20: 0.12457116254616747\n",
            "P1: 0.225\n",
            "P3: 0.18333333333333332\n",
            "P5: 0.17375000000000002\n",
            "P10: 0.135625\n",
            "P20: 0.1128125\n",
            "MRR100: 0.2979868145159347\n"
          ]
        }
      ]
    }
  ]
}