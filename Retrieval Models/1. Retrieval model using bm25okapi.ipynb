{
  "nbformat": 4,
  "nbformat_minor": 0,
  "metadata": {
    "colab": {
      "provenance": []
    },
    "kernelspec": {
      "name": "python3",
      "display_name": "Python 3"
    },
    "language_info": {
      "name": "python"
    }
  },
  "cells": [
    {
      "cell_type": "code",
      "execution_count": null,
      "metadata": {
        "colab": {
          "base_uri": "https://localhost:8080/"
        },
        "id": "0oafsrfYo9wR",
        "outputId": "f4849dee-79d9-4cce-c4e9-50e5a05952c8"
      },
      "outputs": [
        {
          "output_type": "stream",
          "name": "stdout",
          "text": [
            "Cloning into 'ClariQ'...\n",
            "remote: Enumerating objects: 220, done.\u001b[K\n",
            "remote: Counting objects: 100% (44/44), done.\u001b[K\n",
            "remote: Compressing objects: 100% (30/30), done.\u001b[K\n",
            "remote: Total 220 (delta 19), reused 32 (delta 14), pack-reused 176\u001b[K\n",
            "Receiving objects: 100% (220/220), 253.36 MiB | 23.25 MiB/s, done.\n",
            "Resolving deltas: 100% (110/110), done.\n",
            "Updating files: 100% (41/41), done.\n"
          ]
        }
      ],
      "source": [
        "!git clone https://github.com/aliannejadi/ClariQ.git"
      ]
    },
    {
      "cell_type": "markdown",
      "source": [
        "clariq bm25okapi"
      ],
      "metadata": {
        "id": "0FBm05ZSRFeH"
      }
    },
    {
      "cell_type": "code",
      "source": [
        "ls"
      ],
      "metadata": {
        "colab": {
          "base_uri": "https://localhost:8080/"
        },
        "id": "_F6ptcWBgZZH",
        "outputId": "4757f688-9d81-4971-c35d-626295bfc265"
      },
      "execution_count": null,
      "outputs": [
        {
          "output_type": "stream",
          "name": "stdout",
          "text": [
            "\u001b[0m\u001b[01;34mClariQ\u001b[0m/  \u001b[01;34msample_data\u001b[0m/\n"
          ]
        }
      ]
    },
    {
      "cell_type": "code",
      "source": [
        "!pip install rank_bm25"
      ],
      "metadata": {
        "colab": {
          "base_uri": "https://localhost:8080/"
        },
        "id": "_UI1iKgUR92s",
        "outputId": "ad357a15-9fd9-4bd1-a4ba-f1e06303952b"
      },
      "execution_count": null,
      "outputs": [
        {
          "output_type": "stream",
          "name": "stdout",
          "text": [
            "Looking in indexes: https://pypi.org/simple, https://us-python.pkg.dev/colab-wheels/public/simple/\n",
            "Collecting rank_bm25\n",
            "  Downloading rank_bm25-0.2.2-py3-none-any.whl (8.6 kB)\n",
            "Requirement already satisfied: numpy in /usr/local/lib/python3.9/dist-packages (from rank_bm25) (1.22.4)\n",
            "Installing collected packages: rank_bm25\n",
            "Successfully installed rank_bm25-0.2.2\n"
          ]
        }
      ]
    },
    {
      "cell_type": "code",
      "source": [
        "import pandas as pd\n",
        "from rank_bm25 import BM25Okapi\n",
        "import nltk\n",
        "from nltk.stem.porter import PorterStemmer\n",
        "\n",
        "nltk.download('punkt')\n",
        "nltk.download('stopwords')\n",
        "\n",
        "def stem_tokenize(text, remove_stopwords=True):\n",
        "  stemmer = PorterStemmer()\n",
        "  tokens = [word for sent in nltk.sent_tokenize(text) \\\n",
        "                                      for word in nltk.word_tokenize(sent)]\n",
        "  tokens = [word for word in tokens if word not in \\\n",
        "          nltk.corpus.stopwords.words('english')]\n",
        "  return [stemmer.stem(word) for word in tokens]"
      ],
      "metadata": {
        "colab": {
          "base_uri": "https://localhost:8080/"
        },
        "id": "YCQPnIqTQu7b",
        "outputId": "c6a60322-8f2d-4bda-e222-4b9a33922a5d"
      },
      "execution_count": null,
      "outputs": [
        {
          "output_type": "stream",
          "name": "stderr",
          "text": [
            "[nltk_data] Downloading package punkt to /root/nltk_data...\n",
            "[nltk_data]   Unzipping tokenizers/punkt.zip.\n",
            "[nltk_data] Downloading package stopwords to /root/nltk_data...\n",
            "[nltk_data]   Unzipping corpora/stopwords.zip.\n"
          ]
        }
      ]
    },
    {
      "cell_type": "code",
      "source": [
        "cd ClariQ/"
      ],
      "metadata": {
        "colab": {
          "base_uri": "https://localhost:8080/"
        },
        "id": "hZvkJMsyIxVH",
        "outputId": "c91bd665-6cfc-4b9e-953a-f611794183be"
      },
      "execution_count": null,
      "outputs": [
        {
          "output_type": "stream",
          "name": "stdout",
          "text": [
            "/content/ClariQ\n"
          ]
        }
      ]
    },
    {
      "cell_type": "code",
      "source": [
        "ls"
      ],
      "metadata": {
        "colab": {
          "base_uri": "https://localhost:8080/"
        },
        "id": "qx9WIvz1JN1w",
        "outputId": "b396a191-36d5-478a-f9cf-dff3a39c63b8"
      },
      "execution_count": null,
      "outputs": [
        {
          "output_type": "stream",
          "name": "stdout",
          "text": [
            "\u001b[0m\u001b[01;34mdata\u001b[0m/  README.md  \u001b[01;34msample_runs\u001b[0m/  \u001b[01;34msrc\u001b[0m/\n"
          ]
        }
      ]
    },
    {
      "cell_type": "code",
      "source": [
        "# Files paths\n",
        "request_file_path = 'data/dev.tsv'\n",
        "question_bank_path = 'data/question_bank.tsv'\n",
        "run_file_path = 'sample_runs/dev_bm25'"
      ],
      "metadata": {
        "id": "kpWmo7zbSt2r"
      },
      "execution_count": null,
      "outputs": []
    },
    {
      "cell_type": "code",
      "source": [
        "# Reads files and build bm25 corpus (index)\n",
        "\n",
        "dev = pd.read_csv(request_file_path, sep='\\t')\n",
        "question_bank = pd.read_csv(question_bank_path, sep='\\t').fillna('')\n",
        "\n",
        "question_bank['tokenized_question_list'] = question_bank['question'].map(stem_tokenize)\n",
        "question_bank['tokenized_question_str'] = question_bank['tokenized_question_list'].map(lambda x: ' '.join(x))\n",
        "\n",
        "bm25_corpus = question_bank['tokenized_question_list'].tolist()\n",
        "bm25 = BM25Okapi(bm25_corpus)\n",
        "\n",
        "# Runs bm25 for every query and stores output in file.\n",
        "\n",
        "with open(run_file_path, 'w') as fo:\n",
        "  for tid in dev['topic_id'].unique():\n",
        "    query = dev.loc[dev['topic_id']==tid, 'initial_request'].tolist()[0]\n",
        "    bm25_ranked_list = bm25.get_top_n(stem_tokenize(query, True), \n",
        "                                    bm25_corpus, \n",
        "                                    n=30)\n",
        "    bm25_q_list = [' '.join(sent) for sent in bm25_ranked_list]\n",
        "    preds = question_bank.set_index('tokenized_question_str').loc[bm25_q_list, 'question_id'].tolist()\n",
        "    for i, qid in enumerate(preds):    \n",
        "      fo.write('{} 0 {} {} {} bm25\\n'.format(tid, qid, i, len(preds)-i))"
      ],
      "metadata": {
        "id": "jNoXSt0ASt5c"
      },
      "execution_count": null,
      "outputs": []
    },
    {
      "cell_type": "code",
      "source": [
        "cd src\n"
      ],
      "metadata": {
        "colab": {
          "base_uri": "https://localhost:8080/"
        },
        "id": "h2FXnrrIJolK",
        "outputId": "a67c7cc7-b462-4fc7-9fe1-65d80c5d8606"
      },
      "execution_count": null,
      "outputs": [
        {
          "output_type": "stream",
          "name": "stdout",
          "text": [
            "/content/ClariQ/src\n"
          ]
        }
      ]
    },
    {
      "cell_type": "code",
      "source": [
        "run_file_path = \"../sample_runs/dev_bm25\""
      ],
      "metadata": {
        "id": "CQQvzpdpz7wE"
      },
      "execution_count": null,
      "outputs": []
    },
    {
      "cell_type": "code",
      "source": [
        "# Report question relevance performance\n",
        "! python clariq_eval_tool.py    --eval_task question_relevance\\\n",
        "                                --data_dir ../data/ \\\n",
        "                                --experiment_type dev \\\n",
        "                                --run_file {run_file_path} \\\n",
        "                                --out_file {run_file_path}_question_relevance.eval"
      ],
      "metadata": {
        "id": "rsnBbedbKMpQ",
        "colab": {
          "base_uri": "https://localhost:8080/"
        },
        "outputId": "64aaac59-6d2e-49cd-8402-96e1cd1ba2b3"
      },
      "execution_count": null,
      "outputs": [
        {
          "output_type": "stream",
          "name": "stdout",
          "text": [
            "Recall5: 0.3245570421150917\n",
            "Recall10: 0.5638042646208281\n",
            "Recall20: 0.6674997108155003\n",
            "Recall30: 0.6912818698329535\n"
          ]
        }
      ]
    },
    {
      "cell_type": "code",
      "source": [
        "! python clariq_eval_tool.py    --eval_task document_relevance\\\n",
        "                                --data_dir ../data/ \\\n",
        "                                --experiment_type dev \\\n",
        "                                --run_file {run_file_path} \\\n",
        "                                --out_file {run_file_path}.eval"
      ],
      "metadata": {
        "id": "z92ExIi7S-8B",
        "colab": {
          "base_uri": "https://localhost:8080/"
        },
        "outputId": "08a25f0e-0505-4349-a2ba-742bb83a7d35"
      },
      "execution_count": null,
      "outputs": [
        {
          "output_type": "stream",
          "name": "stdout",
          "text": [
            "NDCG1: 0.1859375\n",
            "NDCG3: 0.16076878817226317\n",
            "NDCG5: 0.15299655291242895\n",
            "NDCG10: 0.13569348827493657\n",
            "NDCG20: 0.12814916594090767\n",
            "P1: 0.23125\n",
            "P3: 0.18958333333333333\n",
            "P5: 0.17500000000000002\n",
            "P10: 0.139375\n",
            "P20: 0.1178125\n",
            "MRR100: 0.3090313834647762\n"
          ]
        }
      ]
    }
  ]
}